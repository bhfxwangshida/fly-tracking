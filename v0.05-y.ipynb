{
 "cells": [
  {
   "cell_type": "code",
   "execution_count": 1,
   "metadata": {},
   "outputs": [
    {
     "name": "stderr",
     "output_type": "stream",
     "text": [
      "Using TensorFlow backend.\n"
     ]
    }
   ],
   "source": [
    "from keras.preprocessing import sequence\n",
    "from keras.models import Sequential\n",
    "from keras.layers import Dense, Embedding\n",
    "from keras.layers import LSTM\n",
    "from keras.layers import GRU\n",
    "from keras.datasets import imdb\n",
    "import numpy as np\n",
    "import pandas as pd\n",
    "import os"
   ]
  },
  {
   "cell_type": "code",
   "execution_count": 2,
   "metadata": {},
   "outputs": [
    {
     "name": "stdout",
     "output_type": "stream",
     "text": [
      "Starting file:\n",
      "   ~   stageX   stageY    headX    headY  commandX  commandY\n",
      "0  1  4.92227  2.44792  210.329  195.888  0.008663 -0.002653\n",
      "1  1  4.91331  2.44404  209.282  194.188  0.010410 -0.001959\n",
      "2  1  4.91337  2.44187  209.423  189.576  0.013621 -0.001917\n",
      "3  1  4.92063  2.44000  209.246  189.475  0.014675 -0.001758\n",
      "4  1  4.93597  2.43820  208.985  191.086  0.014294 -0.001522\n",
      "5  1  4.95664  2.43661  209.029  191.863  0.013883 -0.001454\n",
      "6  1  4.97924  2.43573  208.586  193.370  0.012949 -0.001140\n",
      "7  1  5.00523  2.43429  208.995  196.032  0.011188 -0.001224\n",
      "8  1  5.03304  2.43332  209.020  198.801  0.009119 -0.001181\n",
      "9  1  5.05857  2.43253  208.622  200.209  0.007674 -0.000918\n",
      "Ending file:\n",
      "       ~   stageX   stageY    headX    headY  commandX  commandY\n",
      "11228  1 -2.46791  4.14121  224.038  182.363  0.021421 -0.014366\n",
      "11229  1 -2.44529  4.12766  223.888  181.865  0.021651 -0.014366\n",
      "11230  1 -2.42037  4.11245  223.555  180.099  0.022690 -0.014233\n",
      "11231  1 -2.39785  4.09749  224.016  176.383  0.025036 -0.014537\n",
      "11232  1 -2.37695  4.08219  223.867  173.886  0.027113 -0.014577\n",
      "11233  1 -2.35249  4.06736  216.209  170.575  0.029808 -0.010375\n",
      "11234  1 -2.32682  4.05412  214.261  170.790  0.030599 -0.008184\n",
      "11235  1 -2.30119  4.04164  217.567  178.657  0.026567 -0.009044\n",
      "11236  1 -2.27148  4.03533  212.015  179.710  0.025126 -0.005933\n",
      "11237  1 -2.23890  4.02576  212.162  184.639  0.021771 -0.005106\n"
     ]
    }
   ],
   "source": [
    "#老训练集文件\n",
    "names = ['~', 'stageX', 'stageY', 'headX', 'headY' , 'commandX', 'commandY']\n",
    "df = pd.read_csv('C:\\\\Users\\\\Felix\\\\Desktop\\\\毕设\\\\数据\\\\20200115_153335\\\\XYdata-13600-good.txt',sep=',',header=None,names=names,na_values=['-1'], index_col=False)\n",
    "df1 = pd.read_csv('C:\\\\Users\\\\Felix\\\\Desktop\\\\毕设\\\\数据\\\\20200115_154416\\\\XYdata-750-6400-good.txt',sep=',',header=None,names=names,na_values=['-1'], index_col=False)\n",
    "df2 = pd.read_csv('C:\\\\Users\\\\Felix\\\\Desktop\\\\毕设\\\\数据\\\\20200114_221920\\\\XYdata-3700-13700-爬壁翻车.txt',sep=',',header=None,names=names,na_values=['-1'], index_col=False)\n",
    "\n",
    "#新训练文件\n",
    "dt = pd.read_csv('C:\\\\Users\\\\Felix\\\\Desktop\\\\毕设\\\\数据\\\\20191226_201154-5\\\\clip1.txt',sep=',',header=None,names=names,na_values=['-1'], index_col=False)\n",
    "dt1 = pd.read_csv('C:\\\\Users\\\\Felix\\\\Desktop\\\\毕设\\\\数据\\\\20191226_201154-5\\\\clip2.txt',sep=',',header=None,names=names,na_values=['-1'], index_col=False)\n",
    "dt2 = pd.read_csv('C:\\\\Users\\\\Felix\\\\Desktop\\\\毕设\\\\数据\\\\20191226_201154-5\\\\clip3.txt',sep=',',header=None,names=names,na_values=['-1'], index_col=False)\n",
    "dt3 = pd.read_csv('C:\\\\Users\\\\Felix\\\\Desktop\\\\毕设\\\\数据\\\\20191226_201154-5\\\\clip4.txt',sep=',',header=None,names=names,na_values=['-1'], index_col=False)\n",
    "dt4 = pd.read_csv('C:\\\\Users\\\\Felix\\\\Desktop\\\\毕设\\\\数据\\\\20191226_201154-5\\\\clip5.txt',sep=',',header=None,names=names,na_values=['-1'], index_col=False)\n",
    "dt5 = pd.read_csv('C:\\\\Users\\\\Felix\\\\Desktop\\\\毕设\\\\数据\\\\20191226_193003-3\\\\clip1.txt',sep=',',header=None,names=names,na_values=['-1'], index_col=False)\n",
    "dt6 = pd.read_csv('C:\\\\Users\\\\Felix\\\\Desktop\\\\毕设\\\\数据\\\\20191226_193003-3\\\\clip2.txt',sep=',',header=None,names=names,na_values=['-1'], index_col=False)\n",
    "dt7 = pd.read_csv('C:\\\\Users\\\\Felix\\\\Desktop\\\\毕设\\\\数据\\\\20191226_193003-3\\\\clip3.txt',sep=',',header=None,names=names,na_values=['-1'], index_col=False)\n",
    "dt8 = pd.read_csv('C:\\\\Users\\\\Felix\\\\Desktop\\\\毕设\\\\数据\\\\20191229_162826-4\\\\clip1.txt',sep=',',header=None,names=names,na_values=['-1'], index_col=False)\n",
    "dt9 = pd.read_csv('C:\\\\Users\\\\Felix\\\\Desktop\\\\毕设\\\\数据\\\\20191229_162826-4\\\\clip2.txt',sep=',',header=None,names=names,na_values=['-1'], index_col=False)\n",
    "dt10 = pd.read_csv('C:\\\\Users\\\\Felix\\\\Desktop\\\\毕设\\\\数据\\\\20191229_162826-4\\\\clip3.txt',sep=',',header=None,names=names,na_values=['-1'], index_col=False)\n",
    "dt11 = pd.read_csv('C:\\\\Users\\\\Felix\\\\Desktop\\\\毕设\\\\数据\\\\20191229_162826-4\\\\clip4.txt',sep=',',header=None,names=names,na_values=['-1'], index_col=False)\n",
    "dt12 = pd.read_csv('C:\\\\Users\\\\Felix\\\\Desktop\\\\毕设\\\\数据\\\\20191231_150128-3\\\\clip1.txt',sep=',',header=None,names=names,na_values=['-1'], index_col=False)\n",
    "dt13 = pd.read_csv('C:\\\\Users\\\\Felix\\\\Desktop\\\\毕设\\\\数据\\\\20191231_150128-3\\\\clip2.txt',sep=',',header=None,names=names,na_values=['-1'], index_col=False)\n",
    "dt14 = pd.read_csv('C:\\\\Users\\\\Felix\\\\Desktop\\\\毕设\\\\数据\\\\20191231_150128-3\\\\clip3.txt',sep=',',header=None,names=names,na_values=['-1'], index_col=False)\n",
    "dt15 = pd.read_csv('C:\\\\Users\\\\Felix\\\\Desktop\\\\毕设\\\\数据\\\\20191231_151217-3\\\\clip1.txt',sep=',',header=None,names=names,na_values=['-1'], index_col=False)\n",
    "dt16 = pd.read_csv('C:\\\\Users\\\\Felix\\\\Desktop\\\\毕设\\\\数据\\\\20191231_151217-3\\\\clip2.txt',sep=',',header=None,names=names,na_values=['-1'], index_col=False)\n",
    "dt17 = pd.read_csv('C:\\\\Users\\\\Felix\\\\Desktop\\\\毕设\\\\数据\\\\20191231_151217-3\\\\clip3.txt',sep=',',header=None,names=names,na_values=['-1'], index_col=False)\n",
    "dt18 = pd.read_csv('C:\\\\Users\\\\Felix\\\\Desktop\\\\毕设\\\\数据\\\\20191231_155405-2\\\\clip1.txt',sep=',',header=None,names=names,na_values=['-1'], index_col=False)\n",
    "dt19 = pd.read_csv('C:\\\\Users\\\\Felix\\\\Desktop\\\\毕设\\\\数据\\\\20191231_155405-2\\\\clip2.txt',sep=',',header=None,names=names,na_values=['-1'], index_col=False)\n",
    "dt20 = pd.read_csv('C:\\\\Users\\\\Felix\\\\Desktop\\\\毕设\\\\数据\\\\20200103_171355-1\\\\clip1.txt',sep=',',header=None,names=names,na_values=['-1'], index_col=False)\n",
    "dt21 = pd.read_csv('C:\\\\Users\\\\Felix\\\\Desktop\\\\毕设\\\\数据\\\\20200103_172443-3\\\\clip1.txt',sep=',',header=None,names=names,na_values=['-1'], index_col=False)\n",
    "dt22 = pd.read_csv('C:\\\\Users\\\\Felix\\\\Desktop\\\\毕设\\\\数据\\\\20200103_172443-3\\\\clip2.txt',sep=',',header=None,names=names,na_values=['-1'], index_col=False)\n",
    "dt23 = pd.read_csv('C:\\\\Users\\\\Felix\\\\Desktop\\\\毕设\\\\数据\\\\20200103_172443-3\\\\clip3.txt',sep=',',header=None,names=names,na_values=['-1'], index_col=False)\n",
    "dt24 = pd.read_csv('C:\\\\Users\\\\Felix\\\\Desktop\\\\毕设\\\\数据\\\\20200109_195406-5\\\\clip1.txt',sep=',',header=None,names=names,na_values=['-1'], index_col=False)\n",
    "dt25 = pd.read_csv('C:\\\\Users\\\\Felix\\\\Desktop\\\\毕设\\\\数据\\\\20200109_195406-5\\\\clip2.txt',sep=',',header=None,names=names,na_values=['-1'], index_col=False)\n",
    "dt26 = pd.read_csv('C:\\\\Users\\\\Felix\\\\Desktop\\\\毕设\\\\数据\\\\20200109_195406-5\\\\clip3.txt',sep=',',header=None,names=names,na_values=['-1'], index_col=False)\n",
    "dt27 = pd.read_csv('C:\\\\Users\\\\Felix\\\\Desktop\\\\毕设\\\\数据\\\\20200109_195406-5\\\\clip4.txt',sep=',',header=None,names=names,na_values=['-1'], index_col=False)\n",
    "\n",
    "print(\"Starting file:\")\n",
    "print(df[0:10])\n",
    "\n",
    "print(\"Ending file:\")\n",
    "print(df[-10:])"
   ]
  },
  {
   "cell_type": "code",
   "execution_count": 3,
   "metadata": {},
   "outputs": [
    {
     "name": "stdout",
     "output_type": "stream",
     "text": [
      "Starting file:\n",
      "   ~    stageX   stageY    headX    headY  commandX  commandY\n",
      "0  1 -0.784802  4.98273  247.044  126.594  0.045004 -0.026057\n",
      "1  1 -0.744803  4.95651  247.252  121.455  0.047856 -0.027034\n",
      "2  1 -0.703488  4.93207  246.511  117.465  0.050641 -0.027931\n",
      "3  1 -0.660172  4.90832  244.525  116.288  0.053338 -0.028460\n",
      "4  1 -0.615135  4.87668  242.411  116.142  0.055734 -0.028766\n",
      "5  1 -0.564294  4.84740  239.538  117.999  0.057772 -0.028841\n",
      "6  1 -0.510760  4.81735  239.054  119.319  0.059393 -0.028728\n",
      "7  1 -0.454080  4.78680  236.862  118.847  0.061007 -0.028567\n",
      "8  1 -0.395259  4.75912  234.764  118.534  0.062381 -0.028246\n",
      "9  1 -0.334984  4.72939  233.149  119.658  0.063528 -0.027778\n",
      "Ending file:\n",
      "      ~   stageX   stageY    headX    headY  commandX  commandY\n",
      "2009  1 -3.62253  1.55201  244.267  221.151  0.000640 -0.021219\n",
      "2010  1 -3.62193  1.52987  243.083  214.992  0.000278 -0.022035\n",
      "2011  1 -3.62203  1.50724  243.252  215.825 -0.000269 -0.022653\n",
      "2012  1 -3.62262  1.48449  242.832  222.786 -0.000947 -0.023350\n",
      "2013  1 -3.62318  1.46306  243.262  223.005 -0.001855 -0.023761\n",
      "2014  1 -3.62427  1.43996  243.646  221.928 -0.002269 -0.024302\n",
      "2015  1 -3.62597  1.41524  242.436  223.947 -0.002955 -0.024703\n",
      "2016  1 -3.62807  1.39358  240.824  226.378 -0.003730 -0.025017\n",
      "2017  1 -3.63107  1.36883  239.181  230.556 -0.004922 -0.025036\n",
      "2018  1 -3.63443  1.34367  237.279  234.117 -0.006531 -0.024979\n"
     ]
    }
   ],
   "source": [
    "#测试集文件\n",
    "names = ['~', 'stageX', 'stageY', 'headX', 'headY' , 'commandX', 'commandY']\n",
    "df_test = pd.read_csv('C:\\\\Users\\\\Felix\\\\Desktop\\\\毕设\\\\数据\\\\20200109_195406-5\\\\clip5.txt',sep=',',header=None,names=names,na_values=['-1'], index_col=False)\n",
    "print(\"Starting file:\")\n",
    "print(df_test[0:10])\n",
    "\n",
    "print(\"Ending file:\")\n",
    "print(df_test[-10:])"
   ]
  },
  {
   "cell_type": "code",
   "execution_count": 4,
   "metadata": {},
   "outputs": [],
   "source": [
    "freq=300#伺服控制频率\n",
    "a11=0.0001777326832096361\n",
    "a12=0.005308842744342313\n",
    "a21=0.00534395497810797\n",
    "a22=-0.00019522174569135787\n",
    "centerX=208\n",
    "centerY=208"
   ]
  },
  {
   "cell_type": "code",
   "execution_count": 5,
   "metadata": {},
   "outputs": [],
   "source": [
    "def to_sequences(seq_size, obs):\n",
    "    x = []\n",
    "    y = []\n",
    "    for i in range(len(obs)-SEQUENCE_SIZE):\n",
    "        #print(i)\n",
    "        window = obs[i:(i+SEQUENCE_SIZE)]\n",
    "        after_window = obs[i+SEQUENCE_SIZE]\n",
    "        window = [x for x in window]\n",
    "        #print(\"{} - {}\".format(window,after_window))\n",
    "        x.append(window)\n",
    "        y.append(after_window)\n",
    "        \n",
    "    return np.array(x),np.array(y)"
   ]
  },
  {
   "cell_type": "code",
   "execution_count": 6,
   "metadata": {},
   "outputs": [],
   "source": [
    "#转浮点\n",
    "def process(a):\n",
    "    a['headX'] = a['headX'].astype(float)\n",
    "    a['stageX'] = a['stageX'].astype(float)\n",
    "    a['stageY'] = a['stageY'].astype(float)\n",
    "    a['headY'] = a['headY'].astype(float)\n",
    "    a['commandX'] = a['commandX'].astype(float)\n",
    "    a['commandY'] = a['commandY'].astype(float)\n",
    "    headX = a['headX']\n",
    "    stageX = a['stageX']\n",
    "    headY = a['headY']\n",
    "    stageY = a['stageY']\n",
    "    commandX = a['commandX']\n",
    "    commandY = a['commandY']\n",
    "    \n",
    "    #算坐标stagetarget和速度headspeed\n",
    "    headErrorX=centerX-headX\n",
    "    headErrorY=centerY-headY\n",
    "    stageErrorX=headErrorX * a11 + a12 * headErrorY\n",
    "    stageErrorY=headErrorX * a21 + a22 * headErrorY\n",
    "    stageTargetX=(stageX+stageErrorX).tolist()\n",
    "    stageTargetY=(stageY+stageErrorY).tolist()\n",
    "    headSpeedX=(np.diff(stageTargetX)*300).tolist()\n",
    "    headSpeedY=(np.diff(stageTargetY)*300).tolist()\n",
    "    \n",
    "    #创建训练和预测数组\n",
    "    x_train,x_pred = to_sequences(SEQUENCE_SIZE,stageTargetX)\n",
    "    y_train,y_pred = to_sequences(SEQUENCE_SIZE,stageTargetY)\n",
    "    xspeed_train,xspeed_pred = to_sequences(SEQUENCE_SIZE,headSpeedX)\n",
    "    yspeed_train,yspeed_pred = to_sequences(SEQUENCE_SIZE,headSpeedY)\n",
    "\n",
    "    #删去位移数组第一行，为了和速度数组同样维度\n",
    "    x_train = np.delete(x_train,0,0)\n",
    "    y_train = np.delete(y_train,0,0)\n",
    "    x_pred = np.delete(x_pred,0,0)\n",
    "    y_pred = np.delete(y_pred,0,0)\n",
    "\n",
    "    #换行列\n",
    "    combine = np.array([x_train,y_train,xspeed_train,yspeed_train])\n",
    "    combine_pred = np.array([y_pred])#仅预测y\n",
    "    combine = combine.swapaxes(0,1)\n",
    "    combine_pred = combine_pred.swapaxes(0,1)\n",
    "    combine = combine.swapaxes(1,2)\n",
    "    \n",
    "    return combine,combine_pred"
   ]
  },
  {
   "cell_type": "code",
   "execution_count": 7,
   "metadata": {},
   "outputs": [],
   "source": [
    "#sequence size\n",
    "SEQUENCE_SIZE = 10"
   ]
  },
  {
   "cell_type": "code",
   "execution_count": 8,
   "metadata": {},
   "outputs": [],
   "source": [
    "#多个训练集赋值到数组\n",
    "train0,pred0 = process(df)\n",
    "train1,pred1 = process(df1)\n",
    "train2,pred2 = process(df2)\n",
    "train3,pred3 = process(dt)\n",
    "train4,pred4 = process(dt1)\n",
    "train5,pred5 = process(dt2)\n",
    "train6,pred6 = process(dt3)\n",
    "train7,pred7 = process(dt4)\n",
    "train8,pred8 = process(dt5)\n",
    "train9,pred9 = process(dt6)\n",
    "train10,pred10 = process(dt7)\n",
    "train11,pred11 = process(dt8)\n",
    "train12,pred12 = process(dt9)\n",
    "train13,pred13 = process(dt10)\n",
    "train14,pred14 = process(dt11)\n",
    "train15,pred15 = process(dt12)\n",
    "train16,pred16 = process(dt13)\n",
    "train17,pred17 = process(dt14)\n",
    "train18,pred18 = process(dt15)\n",
    "train19,pred19 = process(dt16)\n",
    "train20,pred20 = process(dt17)\n",
    "train21,pred21 = process(dt18)\n",
    "train22,pred22 = process(dt19)\n",
    "train23,pred23 = process(dt20)\n",
    "train24,pred24 = process(dt21)\n",
    "train25,pred25 = process(dt22)\n",
    "train26,pred26 = process(dt23)\n",
    "train27,pred27 = process(dt24)\n",
    "train28,pred28 = process(dt25)\n",
    "train29,pred29 = process(dt26)\n",
    "train30,pred30 = process(dt27)\n",
    "\n",
    "#合并数组\n",
    "train = np.vstack((train3,train4,train5,train6,train7,train8,train9,train10,train11,train12,train13,train14,train15,train16,train17,train18,train19,train20,train21,train22,train23,train24,train25,train26,train27,train28,train29,train30))\n",
    "pred = np.vstack((pred3,pred4,pred5,pred6,pred7,pred8,pred9,pred10,pred11,pred12,pred13,pred14,pred15,pred16,pred17,pred18,pred19,pred20,pred21,pred22,pred23,pred24,pred25,pred26,pred27,pred28,pred29,pred30))"
   ]
  },
  {
   "cell_type": "code",
   "execution_count": 9,
   "metadata": {},
   "outputs": [],
   "source": [
    "#测试集数组赋值\n",
    "train_test,pred_test = process(df_test)"
   ]
  },
  {
   "cell_type": "code",
   "execution_count": 10,
   "metadata": {},
   "outputs": [
    {
     "name": "stdout",
     "output_type": "stream",
     "text": [
      "train: (89486, 10, 4)\n",
      "pred: (89486, 1)\n"
     ]
    }
   ],
   "source": [
    "print('train:',train.shape)\n",
    "print('pred:',pred.shape)"
   ]
  },
  {
   "cell_type": "code",
   "execution_count": null,
   "metadata": {},
   "outputs": [
    {
     "name": "stdout",
     "output_type": "stream",
     "text": [
      "Build model...\n",
      "WARNING:tensorflow:From C:\\Users\\Felix\\Anaconda3\\envs\\keras\\lib\\site-packages\\keras\\backend\\tensorflow_backend.py:74: The name tf.get_default_graph is deprecated. Please use tf.compat.v1.get_default_graph instead.\n",
      "\n",
      "WARNING:tensorflow:From C:\\Users\\Felix\\Anaconda3\\envs\\keras\\lib\\site-packages\\keras\\backend\\tensorflow_backend.py:517: The name tf.placeholder is deprecated. Please use tf.compat.v1.placeholder instead.\n",
      "\n",
      "WARNING:tensorflow:From C:\\Users\\Felix\\Anaconda3\\envs\\keras\\lib\\site-packages\\keras\\backend\\tensorflow_backend.py:4138: The name tf.random_uniform is deprecated. Please use tf.random.uniform instead.\n",
      "\n",
      "WARNING:tensorflow:From C:\\Users\\Felix\\Anaconda3\\envs\\keras\\lib\\site-packages\\keras\\optimizers.py:790: The name tf.train.Optimizer is deprecated. Please use tf.compat.v1.train.Optimizer instead.\n",
      "\n",
      "Train...\n",
      "WARNING:tensorflow:From C:\\Users\\Felix\\Anaconda3\\envs\\keras\\lib\\site-packages\\tensorflow_core\\python\\ops\\math_grad.py:1424: where (from tensorflow.python.ops.array_ops) is deprecated and will be removed in a future version.\n",
      "Instructions for updating:\n",
      "Use tf.where in 2.0, which has the same broadcast rule as np.where\n",
      "WARNING:tensorflow:From C:\\Users\\Felix\\Anaconda3\\envs\\keras\\lib\\site-packages\\keras\\backend\\tensorflow_backend.py:986: The name tf.assign_add is deprecated. Please use tf.compat.v1.assign_add instead.\n",
      "\n",
      "WARNING:tensorflow:From C:\\Users\\Felix\\Anaconda3\\envs\\keras\\lib\\site-packages\\keras\\backend\\tensorflow_backend.py:973: The name tf.assign is deprecated. Please use tf.compat.v1.assign instead.\n",
      "\n",
      "WARNING:tensorflow:From C:\\Users\\Felix\\Anaconda3\\envs\\keras\\lib\\site-packages\\keras\\backend\\tensorflow_backend.py:2741: The name tf.Session is deprecated. Please use tf.compat.v1.Session instead.\n",
      "\n",
      "Train on 89486 samples, validate on 2008 samples\n",
      "Epoch 1/850\n",
      "WARNING:tensorflow:From C:\\Users\\Felix\\Anaconda3\\envs\\keras\\lib\\site-packages\\keras\\backend\\tensorflow_backend.py:174: The name tf.get_default_session is deprecated. Please use tf.compat.v1.get_default_session instead.\n",
      "\n",
      "WARNING:tensorflow:From C:\\Users\\Felix\\Anaconda3\\envs\\keras\\lib\\site-packages\\keras\\backend\\tensorflow_backend.py:181: The name tf.ConfigProto is deprecated. Please use tf.compat.v1.ConfigProto instead.\n",
      "\n",
      "WARNING:tensorflow:From C:\\Users\\Felix\\Anaconda3\\envs\\keras\\lib\\site-packages\\keras\\backend\\tensorflow_backend.py:190: The name tf.global_variables is deprecated. Please use tf.compat.v1.global_variables instead.\n",
      "\n",
      "WARNING:tensorflow:From C:\\Users\\Felix\\Anaconda3\\envs\\keras\\lib\\site-packages\\keras\\backend\\tensorflow_backend.py:199: The name tf.is_variable_initialized is deprecated. Please use tf.compat.v1.is_variable_initialized instead.\n",
      "\n",
      "WARNING:tensorflow:From C:\\Users\\Felix\\Anaconda3\\envs\\keras\\lib\\site-packages\\keras\\backend\\tensorflow_backend.py:206: The name tf.variables_initializer is deprecated. Please use tf.compat.v1.variables_initializer instead.\n",
      "\n"
     ]
    }
   ],
   "source": [
    "from tensorflow.keras.callbacks import EarlyStopping\n",
    "\n",
    "print('Build model...')\n",
    "model = Sequential()\n",
    "model.add(GRU(32, dropout=0.0, input_shape=(None,4), recurrent_dropout=0.0,))\n",
    "model.add(Dense(64))\n",
    "model.add(Dense(1))\n",
    "model.compile(loss='mean_squared_error', optimizer='adam')\n",
    "\n",
    "monitor = EarlyStopping(monitor='val_loss', min_delta=0, patience=100, verbose=1, mode='auto', restore_best_weights=True)\n",
    "print('Train...')\n",
    "\n",
    "model.fit(train,pred,validation_data=(train_test,pred_test),callbacks=[monitor],verbose=2,epochs=850)"
   ]
  },
  {
   "cell_type": "markdown",
   "metadata": {},
   "source": [
    "#载入模型再进行训练\n",
    "from keras.models import load_model\n",
    "\n",
    "model = load_model('C:\\\\Users\\\\Felix\\\\Desktop\\\\毕设\\\\训练模型\\\\model-32-64_1900.h5')\n",
    "model.fit(train,pred,verbose=2,epochs=1000)"
   ]
  },
  {
   "cell_type": "code",
   "execution_count": null,
   "metadata": {},
   "outputs": [],
   "source": [
    "from sklearn import metrics\n",
    "\n",
    "pred_0 = model.predict(train_test)\n",
    "score = np.sqrt(metrics.mean_squared_error(pred_0[:,0],pred_test[:,0]))\n",
    "print(\"y测试集Score (RMSE): {}\".format(score))"
   ]
  },
  {
   "cell_type": "code",
   "execution_count": null,
   "metadata": {},
   "outputs": [],
   "source": [
    "from sklearn import metrics\n",
    "\n",
    "pred_1 = model.predict(train)\n",
    "score = np.sqrt(metrics.mean_squared_error(pred_1[:,0],pred[:,0]))\n",
    "print(\"y训练集Score (RMSE): {}\".format(score))"
   ]
  },
  {
   "cell_type": "code",
   "execution_count": null,
   "metadata": {},
   "outputs": [],
   "source": [
    "#保存训练模型\n",
    "model.save('C:\\\\Users\\\\Felix\\\\Desktop\\\\毕设\\\\训练模型\\\\newmodel-32-64_850-y.h5')"
   ]
  },
  {
   "cell_type": "code",
   "execution_count": null,
   "metadata": {},
   "outputs": [],
   "source": []
  }
 ],
 "metadata": {
  "kernelspec": {
   "display_name": "Python 3",
   "language": "python",
   "name": "python3"
  },
  "language_info": {
   "codemirror_mode": {
    "name": "ipython",
    "version": 3
   },
   "file_extension": ".py",
   "mimetype": "text/x-python",
   "name": "python",
   "nbconvert_exporter": "python",
   "pygments_lexer": "ipython3",
   "version": "3.7.6"
  }
 },
 "nbformat": 4,
 "nbformat_minor": 4
}
