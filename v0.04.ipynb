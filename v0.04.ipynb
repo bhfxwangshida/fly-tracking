{
 "cells": [
  {
   "cell_type": "code",
   "execution_count": 1,
   "metadata": {},
   "outputs": [
    {
     "name": "stderr",
     "output_type": "stream",
     "text": [
      "Using TensorFlow backend.\n"
     ]
    }
   ],
   "source": [
    "from keras.preprocessing import sequence\n",
    "from keras.models import Sequential\n",
    "from keras.layers import Dense, Embedding\n",
    "from keras.layers import LSTM\n",
    "from keras.layers import GRU\n",
    "from keras.datasets import imdb\n",
    "import numpy as np\n",
    "import pandas as pd\n",
    "import os"
   ]
  },
  {
   "cell_type": "code",
   "execution_count": 2,
   "metadata": {},
   "outputs": [
    {
     "name": "stdout",
     "output_type": "stream",
     "text": [
      "Starting file:\n",
      "   ~   stageX   stageY    headX    headY  commandX  commandY\n",
      "0  1  4.92227  2.44792  210.329  195.888  0.008663 -0.002653\n",
      "1  1  4.91331  2.44404  209.282  194.188  0.010410 -0.001959\n",
      "2  1  4.91337  2.44187  209.423  189.576  0.013621 -0.001917\n",
      "3  1  4.92063  2.44000  209.246  189.475  0.014675 -0.001758\n",
      "4  1  4.93597  2.43820  208.985  191.086  0.014294 -0.001522\n",
      "5  1  4.95664  2.43661  209.029  191.863  0.013883 -0.001454\n",
      "6  1  4.97924  2.43573  208.586  193.370  0.012949 -0.001140\n",
      "7  1  5.00523  2.43429  208.995  196.032  0.011188 -0.001224\n",
      "8  1  5.03304  2.43332  209.020  198.801  0.009119 -0.001181\n",
      "9  1  5.05857  2.43253  208.622  200.209  0.007674 -0.000918\n",
      "Ending file:\n",
      "       ~   stageX   stageY    headX    headY  commandX  commandY\n",
      "11228  1 -2.46791  4.14121  224.038  182.363  0.021421 -0.014366\n",
      "11229  1 -2.44529  4.12766  223.888  181.865  0.021651 -0.014366\n",
      "11230  1 -2.42037  4.11245  223.555  180.099  0.022690 -0.014233\n",
      "11231  1 -2.39785  4.09749  224.016  176.383  0.025036 -0.014537\n",
      "11232  1 -2.37695  4.08219  223.867  173.886  0.027113 -0.014577\n",
      "11233  1 -2.35249  4.06736  216.209  170.575  0.029808 -0.010375\n",
      "11234  1 -2.32682  4.05412  214.261  170.790  0.030599 -0.008184\n",
      "11235  1 -2.30119  4.04164  217.567  178.657  0.026567 -0.009044\n",
      "11236  1 -2.27148  4.03533  212.015  179.710  0.025126 -0.005933\n",
      "11237  1 -2.23890  4.02576  212.162  184.639  0.021771 -0.005106\n"
     ]
    }
   ],
   "source": [
    "#老训练集文件\n",
    "names = ['~', 'stageX', 'stageY', 'headX', 'headY' , 'commandX', 'commandY']\n",
    "df = pd.read_csv('C:\\\\Users\\\\Felix\\\\Desktop\\\\毕设\\\\数据\\\\20200115_153335\\\\XYdata-13600-good.txt',sep=',',header=None,names=names,na_values=['-1'], index_col=False)\n",
    "df1 = pd.read_csv('C:\\\\Users\\\\Felix\\\\Desktop\\\\毕设\\\\数据\\\\20200115_154416\\\\XYdata-750-6400-good.txt',sep=',',header=None,names=names,na_values=['-1'], index_col=False)\n",
    "df2 = pd.read_csv('C:\\\\Users\\\\Felix\\\\Desktop\\\\毕设\\\\数据\\\\20200114_221920\\\\XYdata-3700-13700-爬壁翻车.txt',sep=',',header=None,names=names,na_values=['-1'], index_col=False)\n",
    "\n",
    "#新训练文件\n",
    "dt = pd.read_csv('C:\\\\Users\\\\Felix\\\\Desktop\\\\毕设\\\\数据\\\\20191226_201154-5\\\\clip1.txt',sep=',',header=None,names=names,na_values=['-1'], index_col=False)\n",
    "dt1 = pd.read_csv('C:\\\\Users\\\\Felix\\\\Desktop\\\\毕设\\\\数据\\\\20191226_201154-5\\\\clip2.txt',sep=',',header=None,names=names,na_values=['-1'], index_col=False)\n",
    "dt2 = pd.read_csv('C:\\\\Users\\\\Felix\\\\Desktop\\\\毕设\\\\数据\\\\20191226_201154-5\\\\clip3.txt',sep=',',header=None,names=names,na_values=['-1'], index_col=False)\n",
    "dt3 = pd.read_csv('C:\\\\Users\\\\Felix\\\\Desktop\\\\毕设\\\\数据\\\\20191226_201154-5\\\\clip4.txt',sep=',',header=None,names=names,na_values=['-1'], index_col=False)\n",
    "dt4 = pd.read_csv('C:\\\\Users\\\\Felix\\\\Desktop\\\\毕设\\\\数据\\\\20191226_201154-5\\\\clip5.txt',sep=',',header=None,names=names,na_values=['-1'], index_col=False)\n",
    "dt5 = pd.read_csv('C:\\\\Users\\\\Felix\\\\Desktop\\\\毕设\\\\数据\\\\20191226_193003-3\\\\clip1.txt',sep=',',header=None,names=names,na_values=['-1'], index_col=False)\n",
    "dt6 = pd.read_csv('C:\\\\Users\\\\Felix\\\\Desktop\\\\毕设\\\\数据\\\\20191226_193003-3\\\\clip2.txt',sep=',',header=None,names=names,na_values=['-1'], index_col=False)\n",
    "dt7 = pd.read_csv('C:\\\\Users\\\\Felix\\\\Desktop\\\\毕设\\\\数据\\\\20191226_193003-3\\\\clip3.txt',sep=',',header=None,names=names,na_values=['-1'], index_col=False)\n",
    "dt7 = pd.read_csv('C:\\\\Users\\\\Felix\\\\Desktop\\\\毕设\\\\数据\\\\20191229_162826-4\\\\clip1.txt',sep=',',header=None,names=names,na_values=['-1'], index_col=False)\n",
    "dt7 = pd.read_csv('C:\\\\Users\\\\Felix\\\\Desktop\\\\毕设\\\\数据\\\\20191229_162826-4\\\\clip2.txt',sep=',',header=None,names=names,na_values=['-1'], index_col=False)\n",
    "dt7 = pd.read_csv('C:\\\\Users\\\\Felix\\\\Desktop\\\\毕设\\\\数据\\\\20191229_162826-4\\\\clip3.txt',sep=',',header=None,names=names,na_values=['-1'], index_col=False)\n",
    "\n",
    "print(\"Starting file:\")\n",
    "print(df[0:10])\n",
    "\n",
    "print(\"Ending file:\")\n",
    "print(df[-10:])"
   ]
  },
  {
   "cell_type": "code",
   "execution_count": 3,
   "metadata": {},
   "outputs": [
    {
     "name": "stdout",
     "output_type": "stream",
     "text": [
      "Starting file:\n",
      "   ~   stageX   stageY    headX    headY  commandX  commandY\n",
      "0  1 -1.44856  3.37909  200.254  164.731  0.037696  0.006702\n",
      "1  1 -1.40986  3.38603  202.990  163.957  0.033970  0.007861\n",
      "2  1 -1.36495  3.39298  202.320  165.096  0.030397  0.005490\n",
      "3  1 -1.32165  3.40011  202.631  167.927  0.027325  0.004039\n",
      "4  1 -1.28211  3.40551  204.688  171.561  0.027786  0.004613\n",
      "5  1 -1.24888  3.40939  204.043  174.345  0.026729  0.006146\n",
      "6  1 -1.21464  3.41397  203.501  176.041  0.028162  0.003413\n",
      "7  1 -1.18574  3.42072  204.027  179.237  0.026737  0.002106\n",
      "8  1 -1.15846  3.42435  204.028  181.812  0.022800  0.004799\n",
      "9  1 -1.13113  3.42546  204.481  182.728  0.020907  0.004714\n",
      "Ending file:\n",
      "      ~   stageX   stageY    headX    headY  commandX  commandY\n",
      "4083  1  4.60606 -3.21318  211.454  199.718  0.003994 -0.001071\n",
      "4084  1  4.60993 -3.21377  212.011  198.672  0.004788 -0.001409\n",
      "4085  1  4.61383 -3.21451  211.732  197.711  0.005249 -0.001214\n",
      "4086  1  4.61853 -3.21597  212.685  198.438  0.005605 -0.001900\n",
      "4087  1  4.62387 -3.21664  214.062  198.109  0.008395 -0.000255\n",
      "4088  1  4.62924 -3.21833  214.272  199.533  0.006368 -0.001905\n",
      "4089  1  4.63620 -3.21880  213.396  201.776  0.008479  0.002672\n",
      "4090  1  4.64341 -3.21987  212.039  204.019  0.002921  0.000067\n",
      "4091  1  4.65132 -3.21741  207.881  206.165  0.000117  0.001308\n",
      "4092  1  4.65790 -3.21739  205.387  206.856 -0.000683  0.003035\n"
     ]
    }
   ],
   "source": [
    "#测试集文件\n",
    "names = ['~', 'stageX', 'stageY', 'headX', 'headY' , 'commandX', 'commandY']\n",
    "df_test = pd.read_csv('C:\\\\Users\\\\Felix\\\\Desktop\\\\毕设\\\\数据\\\\20191229_162826-4\\\\clip4.txt',sep=',',header=None,names=names,na_values=['-1'], index_col=False)\n",
    "\n",
    "print(\"Starting file:\")\n",
    "print(df_test[0:10])\n",
    "\n",
    "print(\"Ending file:\")\n",
    "print(df_test[-10:])"
   ]
  },
  {
   "cell_type": "code",
   "execution_count": 4,
   "metadata": {},
   "outputs": [],
   "source": [
    "freq=300#伺服控制频率\n",
    "a11=0.0001777326832096361\n",
    "a12=0.005308842744342313\n",
    "a21=0.00534395497810797\n",
    "a22=-0.00019522174569135787\n",
    "centerX=208\n",
    "centerY=208"
   ]
  },
  {
   "cell_type": "code",
   "execution_count": 5,
   "metadata": {},
   "outputs": [],
   "source": [
    "def to_sequences(seq_size, obs):\n",
    "    x = []\n",
    "    y = []\n",
    "    for i in range(len(obs)-SEQUENCE_SIZE):\n",
    "        #print(i)\n",
    "        window = obs[i:(i+SEQUENCE_SIZE)]\n",
    "        after_window = obs[i+SEQUENCE_SIZE]\n",
    "        window = [x for x in window]\n",
    "        #print(\"{} - {}\".format(window,after_window))\n",
    "        x.append(window)\n",
    "        y.append(after_window)\n",
    "        \n",
    "    return np.array(x),np.array(y)"
   ]
  },
  {
   "cell_type": "code",
   "execution_count": 6,
   "metadata": {},
   "outputs": [],
   "source": [
    "#转浮点\n",
    "def process(a):\n",
    "    a['headX'] = a['headX'].astype(float)\n",
    "    a['stageX'] = a['stageX'].astype(float)\n",
    "    a['stageY'] = a['stageY'].astype(float)\n",
    "    a['headY'] = a['headY'].astype(float)\n",
    "    a['commandX'] = a['commandX'].astype(float)\n",
    "    a['commandY'] = a['commandY'].astype(float)\n",
    "    headX = a['headX']\n",
    "    stageX = a['stageX']\n",
    "    headY = a['headY']\n",
    "    stageY = a['stageY']\n",
    "    commandX = a['commandX']\n",
    "    commandY = a['commandY']\n",
    "    \n",
    "    #算坐标stagetarget和速度headspeed\n",
    "    headErrorX=centerX-headX\n",
    "    headErrorY=centerY-headY\n",
    "    stageErrorX=headErrorX * a11 + a12 * headErrorY\n",
    "    stageErrorY=headErrorX * a21 + a22 * headErrorY\n",
    "    stageTargetX=(stageX+stageErrorX).tolist()\n",
    "    stageTargetY=(stageY+stageErrorY).tolist()\n",
    "    headSpeedX=(np.diff(stageTargetX)*300).tolist()\n",
    "    headSpeedY=(np.diff(stageTargetY)*300).tolist()\n",
    "    \n",
    "    #创建训练和预测数组\n",
    "    x_train,x_pred = to_sequences(SEQUENCE_SIZE,stageTargetX)\n",
    "    y_train,y_pred = to_sequences(SEQUENCE_SIZE,stageTargetY)\n",
    "    xspeed_train,xspeed_pred = to_sequences(SEQUENCE_SIZE,headSpeedX)\n",
    "    yspeed_train,yspeed_pred = to_sequences(SEQUENCE_SIZE,headSpeedY)\n",
    "\n",
    "    #删去位移数组第一行，为了和速度数组同样维度\n",
    "    x_train = np.delete(x_train,0,0)\n",
    "    y_train = np.delete(y_train,0,0)\n",
    "    x_pred = np.delete(x_pred,0,0)\n",
    "    y_pred = np.delete(y_pred,0,0)\n",
    "\n",
    "    #换行列\n",
    "    combine = np.array([x_train,y_train,xspeed_train,yspeed_train])\n",
    "    combine_pred = np.array([x_pred,y_pred])\n",
    "    combine = combine.swapaxes(0,1)\n",
    "    combine_pred = combine_pred.swapaxes(0,1)\n",
    "    combine = combine.swapaxes(1,2)\n",
    "    \n",
    "    return combine,combine_pred"
   ]
  },
  {
   "cell_type": "code",
   "execution_count": 7,
   "metadata": {},
   "outputs": [],
   "source": [
    "#batch size\n",
    "SEQUENCE_SIZE = 20"
   ]
  },
  {
   "cell_type": "code",
   "execution_count": 8,
   "metadata": {},
   "outputs": [],
   "source": [
    "#将多个训练集拼起来，！！需要手动添加！！\n",
    "train0,pred0 = process(df)\n",
    "train1,pred1 = process(df1)\n",
    "train2,pred2 = process(df2)\n",
    "train3,pred3 = process(dt)\n",
    "train4,pred4 = process(dt1)\n",
    "train5,pred5 = process(dt2)\n",
    "train6,pred6 = process(dt3)\n",
    "train7,pred7 = process(dt4)\n",
    "train8,pred8 = process(dt5)\n",
    "train9,pred9 = process(dt6)\n",
    "train10,pred10 = process(dt7)\n",
    "\n",
    "#把数组拼起来\n",
    "train = np.vstack((train3,train4,train5,train6,train7,train8,train9,train10))\n",
    "pred = np.vstack((pred3,pred4,pred5,pred6,pred7,pred8,pred9,pred10))"
   ]
  },
  {
   "cell_type": "code",
   "execution_count": 9,
   "metadata": {},
   "outputs": [],
   "source": [
    "#测试集数组赋值\n",
    "train_test,pred_test = process(df_test)"
   ]
  },
  {
   "cell_type": "code",
   "execution_count": 10,
   "metadata": {},
   "outputs": [
    {
     "name": "stdout",
     "output_type": "stream",
     "text": [
      "train: (22220, 20, 4)\n",
      "pred: (22220, 2)\n"
     ]
    }
   ],
   "source": [
    "print('train:',train.shape)\n",
    "print('pred:',pred.shape)"
   ]
  },
  {
   "cell_type": "code",
   "execution_count": 17,
   "metadata": {},
   "outputs": [
    {
     "name": "stdout",
     "output_type": "stream",
     "text": [
      "Build model...\n",
      "Train...\n",
      "Train on 22220 samples, validate on 4072 samples\n",
      "Epoch 1/850\n",
      " - 7s - loss: 0.2919 - val_loss: 0.0666\n",
      "Epoch 2/850\n",
      " - 6s - loss: 0.0095 - val_loss: 0.0282\n",
      "Epoch 3/850\n",
      " - 8s - loss: 0.0050 - val_loss: 0.0272\n",
      "Epoch 4/850\n",
      " - 8s - loss: 0.0041 - val_loss: 0.0345\n",
      "Epoch 5/850\n",
      " - 8s - loss: 0.0040 - val_loss: 0.0144\n",
      "Epoch 6/850\n",
      " - 9s - loss: 0.0038 - val_loss: 0.0416\n",
      "Epoch 7/850\n",
      " - 9s - loss: 0.0035 - val_loss: 0.0209\n",
      "Epoch 8/850\n",
      " - 8s - loss: 0.0030 - val_loss: 0.0349\n",
      "Epoch 9/850\n",
      " - 8s - loss: 0.0038 - val_loss: 0.0339\n",
      "Epoch 10/850\n",
      " - 9s - loss: 0.0039 - val_loss: 0.0281\n",
      "Epoch 11/850\n",
      " - 9s - loss: 0.0026 - val_loss: 0.0135\n",
      "Epoch 12/850\n",
      " - 9s - loss: 0.0027 - val_loss: 0.0162\n",
      "Epoch 13/850\n",
      " - 9s - loss: 0.0053 - val_loss: 0.0294\n",
      "Epoch 14/850\n",
      " - 9s - loss: 0.0024 - val_loss: 0.0308\n",
      "Epoch 15/850\n",
      " - 9s - loss: 0.0025 - val_loss: 0.0492\n",
      "Epoch 16/850\n",
      " - 9s - loss: 0.0030 - val_loss: 0.0235\n",
      "Epoch 17/850\n",
      " - 9s - loss: 0.0023 - val_loss: 0.0128\n",
      "Epoch 18/850\n",
      " - 9s - loss: 0.0019 - val_loss: 0.0120\n",
      "Epoch 19/850\n",
      " - 9s - loss: 0.0016 - val_loss: 0.0097\n",
      "Epoch 20/850\n",
      " - 10s - loss: 0.0023 - val_loss: 0.0198\n",
      "Epoch 21/850\n",
      " - 9s - loss: 0.0020 - val_loss: 0.0177\n",
      "Epoch 22/850\n",
      " - 10s - loss: 0.0026 - val_loss: 0.0294\n",
      "Epoch 23/850\n",
      " - 10s - loss: 0.0021 - val_loss: 0.0114\n",
      "Epoch 24/850\n",
      " - 10s - loss: 0.0016 - val_loss: 0.0128\n",
      "Epoch 25/850\n",
      " - 10s - loss: 0.0016 - val_loss: 0.0194\n",
      "Epoch 26/850\n",
      " - 10s - loss: 0.0016 - val_loss: 0.0217\n",
      "Epoch 27/850\n",
      " - 10s - loss: 0.0018 - val_loss: 0.0216\n",
      "Epoch 28/850\n",
      " - 10s - loss: 0.0017 - val_loss: 0.0180\n",
      "Epoch 29/850\n",
      " - 10s - loss: 0.0015 - val_loss: 0.0164\n",
      "Epoch 30/850\n",
      " - 10s - loss: 0.0019 - val_loss: 0.0150\n",
      "Epoch 31/850\n",
      " - 10s - loss: 0.0015 - val_loss: 0.0089\n",
      "Epoch 32/850\n",
      " - 11s - loss: 0.0018 - val_loss: 0.0237\n",
      "Epoch 33/850\n",
      " - 11s - loss: 0.0020 - val_loss: 0.0222\n",
      "Epoch 34/850\n",
      " - 11s - loss: 0.0020 - val_loss: 0.0213\n",
      "Epoch 35/850\n",
      " - 11s - loss: 0.0013 - val_loss: 0.0171\n",
      "Epoch 36/850\n",
      " - 11s - loss: 0.0010 - val_loss: 0.0134\n",
      "Epoch 37/850\n",
      " - 12s - loss: 0.0013 - val_loss: 0.0221\n",
      "Epoch 38/850\n",
      " - 13s - loss: 0.0014 - val_loss: 0.0100\n",
      "Epoch 39/850\n",
      " - 12s - loss: 0.0016 - val_loss: 0.0181\n",
      "Restoring model weights from the end of the best epoch.\n",
      "Epoch 00039: early stopping\n"
     ]
    },
    {
     "data": {
      "text/plain": [
       "<keras.callbacks.History at 0x21121a3aec8>"
      ]
     },
     "execution_count": 17,
     "metadata": {},
     "output_type": "execute_result"
    }
   ],
   "source": [
    "from tensorflow.keras.callbacks import EarlyStopping\n",
    "\n",
    "print('Build model...')\n",
    "model = Sequential()\n",
    "model.add(GRU(32, dropout=0.0, input_shape=(None,4), recurrent_dropout=0.0,))\n",
    "model.add(Dense(64))\n",
    "model.add(Dense(2))\n",
    "model.compile(loss='mean_squared_error', optimizer='adam')\n",
    "\n",
    "monitor = EarlyStopping(monitor='val_loss', min_delta=0, patience=50, verbose=1, mode='auto', restore_best_weights=True)\n",
    "print('Train...')\n",
    "\n",
    "model.fit(train,pred,validation_data=(train_test,pred_test),callbacks=[monitor],verbose=2,epochs=850)"
   ]
  },
  {
   "cell_type": "markdown",
   "metadata": {},
   "source": [
    "#载入模型再进行训练\n",
    "from keras.models import load_model\n",
    "\n",
    "model = load_model('C:\\\\Users\\\\Felix\\\\Desktop\\\\毕设\\\\训练模型\\\\model-32-64_1900.h5')\n",
    "model.fit(train,pred,verbose=2,epochs=1000)"
   ]
  },
  {
   "cell_type": "code",
   "execution_count": 20,
   "metadata": {},
   "outputs": [
    {
     "name": "stdout",
     "output_type": "stream",
     "text": [
      "测试集Score (RMSE): 0.07068371961576683\n"
     ]
    }
   ],
   "source": [
    "from sklearn import metrics\n",
    "\n",
    "pred_0 = model.predict(train_test)\n",
    "score = np.sqrt(metrics.mean_squared_error(pred_0[:,0],pred_test[:,0]))\n",
    "print(\"测试集Score (RMSE): {}\".format(score))"
   ]
  },
  {
   "cell_type": "code",
   "execution_count": 19,
   "metadata": {},
   "outputs": [
    {
     "name": "stdout",
     "output_type": "stream",
     "text": [
      "训练集Score (RMSE): 0.05332137197196719\n"
     ]
    }
   ],
   "source": [
    "from sklearn import metrics\n",
    "\n",
    "pred_1 = model.predict(train)\n",
    "score = np.sqrt(metrics.mean_squared_error(pred_1[:,1],pred[:,1]))\n",
    "print(\"训练集Score (RMSE): {}\".format(score))"
   ]
  },
  {
   "cell_type": "code",
   "execution_count": 14,
   "metadata": {},
   "outputs": [],
   "source": [
    "#保存训练模型\n",
    "model.save('C:\\\\Users\\\\Felix\\\\Desktop\\\\毕设\\\\训练模型\\\\newmodel-32-64_850.h5')"
   ]
  },
  {
   "cell_type": "code",
   "execution_count": null,
   "metadata": {},
   "outputs": [],
   "source": []
  }
 ],
 "metadata": {
  "kernelspec": {
   "display_name": "Python 3",
   "language": "python",
   "name": "python3"
  },
  "language_info": {
   "codemirror_mode": {
    "name": "ipython",
    "version": 3
   },
   "file_extension": ".py",
   "mimetype": "text/x-python",
   "name": "python",
   "nbconvert_exporter": "python",
   "pygments_lexer": "ipython3",
   "version": "3.7.6"
  }
 },
 "nbformat": 4,
 "nbformat_minor": 4
}
