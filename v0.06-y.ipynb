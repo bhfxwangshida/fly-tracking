{
 "cells": [
  {
   "cell_type": "code",
   "execution_count": 1,
   "metadata": {},
   "outputs": [
    {
     "name": "stderr",
     "output_type": "stream",
     "text": [
      "Using TensorFlow backend.\n"
     ]
    }
   ],
   "source": [
    "from keras.preprocessing import sequence\n",
    "from keras.models import Sequential\n",
    "from keras.layers import Dense, Embedding\n",
    "from keras.layers import LSTM\n",
    "from keras.layers import GRU\n",
    "from keras.datasets import imdb\n",
    "import numpy as np\n",
    "import pandas as pd\n",
    "import os"
   ]
  },
  {
   "cell_type": "code",
   "execution_count": 2,
   "metadata": {},
   "outputs": [
    {
     "name": "stdout",
     "output_type": "stream",
     "text": [
      "Starting file:\n",
      "   ~   stageX   stageY    headX    headY  commandX  commandY\n",
      "0  1 -1.47125 -1.34062  229.727  251.293 -0.028574 -0.021501\n",
      "1  1 -1.41570 -1.35539  228.706  250.736 -0.033015 -0.018075\n",
      "2  1 -1.33078 -1.39365  230.346  255.631 -0.041874 -0.005166\n",
      "3  1 -1.25445 -1.41604  228.287  262.730  0.169987  0.036100\n",
      "4  1 -1.21110 -1.41817  222.564  273.176  0.053197  0.021901\n",
      "5  1 -1.19682 -1.39769  218.210  280.143  0.048127  0.019772\n",
      "6  1 -1.18096 -1.35718  217.197  283.639 -0.171999 -0.028261\n",
      "7  1 -1.14140 -1.33317  217.772  285.768 -0.065908  0.003277\n",
      "8  1 -1.08597 -1.34493  221.292  288.926 -0.064437 -0.015114\n",
      "9  1 -1.03578 -1.36888  223.610  294.648 -0.074214 -0.007315\n",
      "Ending file:\n",
      "      ~   stageX   stageY    headX    headY  commandX  commandY\n",
      "1146  1 -2.92671  1.37022  188.434  209.636  0.001333  0.014058\n",
      "1147  1 -2.92739  1.38528  189.088  208.457  0.001155  0.018241\n",
      "1148  1 -2.92675  1.40343  189.687  207.664  0.002596  0.013053\n",
      "1149  1 -2.92580  1.42000  190.875  206.794  0.003358  0.015218\n",
      "1150  1 -2.92373  1.43288  191.587  206.278  0.004100  0.013636\n",
      "1151  1 -2.92075  1.44809  193.815  203.158  0.003890  0.008925\n",
      "1152  1 -2.91666  1.46036  193.341  203.947  0.004843  0.013108\n",
      "1153  1 -2.91204  1.46734  194.622  204.240  0.005941  0.011560\n",
      "1154  1 -2.90691  1.48016  194.617  203.177  0.003604  0.008723\n",
      "1155  1 -2.90091  1.49145  194.959  203.836  0.004060  0.011099\n"
     ]
    }
   ],
   "source": [
    "#训练集文件\n",
    "names = ['~', 'stageX', 'stageY', 'headX', 'headY' , 'commandX', 'commandY']\n",
    "\n",
    "dt = pd.read_csv('C:\\\\Users\\\\Felix\\\\Desktop\\\\毕设\\\\数据\\\\20191226_201154-5\\\\clip1.txt',sep=',',header=None,names=names,na_values=['-1'], index_col=False)\n",
    "dt1 = pd.read_csv('C:\\\\Users\\\\Felix\\\\Desktop\\\\毕设\\\\数据\\\\20191226_201154-5\\\\clip2.txt',sep=',',header=None,names=names,na_values=['-1'], index_col=False)\n",
    "dt2 = pd.read_csv('C:\\\\Users\\\\Felix\\\\Desktop\\\\毕设\\\\数据\\\\20191226_201154-5\\\\clip3.txt',sep=',',header=None,names=names,na_values=['-1'], index_col=False)\n",
    "dt3 = pd.read_csv('C:\\\\Users\\\\Felix\\\\Desktop\\\\毕设\\\\数据\\\\20191226_201154-5\\\\clip4.txt',sep=',',header=None,names=names,na_values=['-1'], index_col=False)\n",
    "dt4 = pd.read_csv('C:\\\\Users\\\\Felix\\\\Desktop\\\\毕设\\\\数据\\\\20191226_201154-5\\\\clip5.txt',sep=',',header=None,names=names,na_values=['-1'], index_col=False)\n",
    "dt5 = pd.read_csv('C:\\\\Users\\\\Felix\\\\Desktop\\\\毕设\\\\数据\\\\20191226_193003-3\\\\clip1.txt',sep=',',header=None,names=names,na_values=['-1'], index_col=False)\n",
    "dt6 = pd.read_csv('C:\\\\Users\\\\Felix\\\\Desktop\\\\毕设\\\\数据\\\\20191226_193003-3\\\\clip2.txt',sep=',',header=None,names=names,na_values=['-1'], index_col=False)\n",
    "dt7 = pd.read_csv('C:\\\\Users\\\\Felix\\\\Desktop\\\\毕设\\\\数据\\\\20191226_193003-3\\\\clip3.txt',sep=',',header=None,names=names,na_values=['-1'], index_col=False)\n",
    "dt8 = pd.read_csv('C:\\\\Users\\\\Felix\\\\Desktop\\\\毕设\\\\数据\\\\20191229_162826-4\\\\clip1.txt',sep=',',header=None,names=names,na_values=['-1'], index_col=False)\n",
    "dt9 = pd.read_csv('C:\\\\Users\\\\Felix\\\\Desktop\\\\毕设\\\\数据\\\\20191229_162826-4\\\\clip2.txt',sep=',',header=None,names=names,na_values=['-1'], index_col=False)\n",
    "dt10 = pd.read_csv('C:\\\\Users\\\\Felix\\\\Desktop\\\\毕设\\\\数据\\\\20191229_162826-4\\\\clip3.txt',sep=',',header=None,names=names,na_values=['-1'], index_col=False)\n",
    "dt11 = pd.read_csv('C:\\\\Users\\\\Felix\\\\Desktop\\\\毕设\\\\数据\\\\20191229_162826-4\\\\clip4.txt',sep=',',header=None,names=names,na_values=['-1'], index_col=False)\n",
    "dt12 = pd.read_csv('C:\\\\Users\\\\Felix\\\\Desktop\\\\毕设\\\\数据\\\\20191231_150128-3\\\\clip1.txt',sep=',',header=None,names=names,na_values=['-1'], index_col=False)\n",
    "dt13 = pd.read_csv('C:\\\\Users\\\\Felix\\\\Desktop\\\\毕设\\\\数据\\\\20191231_150128-3\\\\clip2.txt',sep=',',header=None,names=names,na_values=['-1'], index_col=False)\n",
    "dt14 = pd.read_csv('C:\\\\Users\\\\Felix\\\\Desktop\\\\毕设\\\\数据\\\\20191231_150128-3\\\\clip3.txt',sep=',',header=None,names=names,na_values=['-1'], index_col=False)\n",
    "dt15 = pd.read_csv('C:\\\\Users\\\\Felix\\\\Desktop\\\\毕设\\\\数据\\\\20191231_151217-3\\\\clip1.txt',sep=',',header=None,names=names,na_values=['-1'], index_col=False)\n",
    "dt16 = pd.read_csv('C:\\\\Users\\\\Felix\\\\Desktop\\\\毕设\\\\数据\\\\20191231_151217-3\\\\clip2.txt',sep=',',header=None,names=names,na_values=['-1'], index_col=False)\n",
    "dt17 = pd.read_csv('C:\\\\Users\\\\Felix\\\\Desktop\\\\毕设\\\\数据\\\\20191231_151217-3\\\\clip3.txt',sep=',',header=None,names=names,na_values=['-1'], index_col=False)\n",
    "dt18 = pd.read_csv('C:\\\\Users\\\\Felix\\\\Desktop\\\\毕设\\\\数据\\\\20191231_155405-2\\\\clip1.txt',sep=',',header=None,names=names,na_values=['-1'], index_col=False)\n",
    "dt19 = pd.read_csv('C:\\\\Users\\\\Felix\\\\Desktop\\\\毕设\\\\数据\\\\20191231_155405-2\\\\clip2.txt',sep=',',header=None,names=names,na_values=['-1'], index_col=False)\n",
    "dt20 = pd.read_csv('C:\\\\Users\\\\Felix\\\\Desktop\\\\毕设\\\\数据\\\\20200103_171355-1\\\\clip1.txt',sep=',',header=None,names=names,na_values=['-1'], index_col=False)\n",
    "dt21 = pd.read_csv('C:\\\\Users\\\\Felix\\\\Desktop\\\\毕设\\\\数据\\\\20200103_172443-3\\\\clip1.txt',sep=',',header=None,names=names,na_values=['-1'], index_col=False)\n",
    "dt22 = pd.read_csv('C:\\\\Users\\\\Felix\\\\Desktop\\\\毕设\\\\数据\\\\20200103_172443-3\\\\clip2.txt',sep=',',header=None,names=names,na_values=['-1'], index_col=False)\n",
    "dt23 = pd.read_csv('C:\\\\Users\\\\Felix\\\\Desktop\\\\毕设\\\\数据\\\\20200103_172443-3\\\\clip3.txt',sep=',',header=None,names=names,na_values=['-1'], index_col=False)\n",
    "dt24 = pd.read_csv('C:\\\\Users\\\\Felix\\\\Desktop\\\\毕设\\\\数据\\\\20200109_195406-5\\\\clip1.txt',sep=',',header=None,names=names,na_values=['-1'], index_col=False)\n",
    "dt25 = pd.read_csv('C:\\\\Users\\\\Felix\\\\Desktop\\\\毕设\\\\数据\\\\20200109_195406-5\\\\clip2.txt',sep=',',header=None,names=names,na_values=['-1'], index_col=False)\n",
    "dt26 = pd.read_csv('C:\\\\Users\\\\Felix\\\\Desktop\\\\毕设\\\\数据\\\\20200109_195406-5\\\\clip3.txt',sep=',',header=None,names=names,na_values=['-1'], index_col=False)\n",
    "dt27 = pd.read_csv('C:\\\\Users\\\\Felix\\\\Desktop\\\\毕设\\\\数据\\\\20200109_195406-5\\\\clip4.txt',sep=',',header=None,names=names,na_values=['-1'], index_col=False)\n",
    "dt28 = pd.read_csv('C:\\\\Users\\\\Felix\\\\Desktop\\\\毕设\\\\数据\\\\20200109_195406-5\\\\clip5.txt',sep=',',header=None,names=names,na_values=['-1'], index_col=False)\n",
    "dt29 = pd.read_csv('C:\\\\Users\\\\Felix\\\\Desktop\\\\毕设\\\\数据\\\\20200114_221920-3\\\\clip1.txt',sep=',',header=None,names=names,na_values=['-1'], index_col=False)\n",
    "dt30 = pd.read_csv('C:\\\\Users\\\\Felix\\\\Desktop\\\\毕设\\\\数据\\\\20200114_221920-3\\\\clip2.txt',sep=',',header=None,names=names,na_values=['-1'], index_col=False)\n",
    "dt31 = pd.read_csv('C:\\\\Users\\\\Felix\\\\Desktop\\\\毕设\\\\数据\\\\20200114_221920-3\\\\clip3.txt',sep=',',header=None,names=names,na_values=['-1'], index_col=False)\n",
    "df_test = pd.read_csv('C:\\\\Users\\\\Felix\\\\Desktop\\\\毕设\\\\数据\\\\20200109_204357-5\\\\clip1.txt',sep=',',header=None,names=names,na_values=['-1'], index_col=False)\n",
    "dt33 = pd.read_csv('C:\\\\Users\\\\Felix\\\\Desktop\\\\毕设\\\\数据\\\\20200109_204357-5\\\\clip2.txt',sep=',',header=None,names=names,na_values=['-1'], index_col=False)\n",
    "dt34 = pd.read_csv('C:\\\\Users\\\\Felix\\\\Desktop\\\\毕设\\\\数据\\\\20200109_204357-5\\\\clip3.txt',sep=',',header=None,names=names,na_values=['-1'], index_col=False)\n",
    "dt35 = pd.read_csv('C:\\\\Users\\\\Felix\\\\Desktop\\\\毕设\\\\数据\\\\20200109_204357-5\\\\clip4.txt',sep=',',header=None,names=names,na_values=['-1'], index_col=False)\n",
    "dt36 = pd.read_csv('C:\\\\Users\\\\Felix\\\\Desktop\\\\毕设\\\\数据\\\\20200109_204357-5\\\\clip5.txt',sep=',',header=None,names=names,na_values=['-1'], index_col=False)\n",
    "dt37 = pd.read_csv('C:\\\\Users\\\\Felix\\\\Desktop\\\\毕设\\\\数据\\\\20200114_215412-7\\\\clip1.txt',sep=',',header=None,names=names,na_values=['-1'], index_col=False)\n",
    "dt38 = pd.read_csv('C:\\\\Users\\\\Felix\\\\Desktop\\\\毕设\\\\数据\\\\20200114_215412-7\\\\clip2.txt',sep=',',header=None,names=names,na_values=['-1'], index_col=False)\n",
    "dt39 = pd.read_csv('C:\\\\Users\\\\Felix\\\\Desktop\\\\毕设\\\\数据\\\\20200114_215412-7\\\\clip3.txt',sep=',',header=None,names=names,na_values=['-1'], index_col=False)\n",
    "dt40 = pd.read_csv('C:\\\\Users\\\\Felix\\\\Desktop\\\\毕设\\\\数据\\\\20200114_215412-7\\\\clip4.txt',sep=',',header=None,names=names,na_values=['-1'], index_col=False)\n",
    "dt41 = pd.read_csv('C:\\\\Users\\\\Felix\\\\Desktop\\\\毕设\\\\数据\\\\20200114_215412-7\\\\clip5.txt',sep=',',header=None,names=names,na_values=['-1'], index_col=False)\n",
    "dt42 = pd.read_csv('C:\\\\Users\\\\Felix\\\\Desktop\\\\毕设\\\\数据\\\\20200114_215412-7\\\\clip6.txt',sep=',',header=None,names=names,na_values=['-1'], index_col=False)\n",
    "dt43 = pd.read_csv('C:\\\\Users\\\\Felix\\\\Desktop\\\\毕设\\\\数据\\\\20200114_215412-7\\\\clip7.txt',sep=',',header=None,names=names,na_values=['-1'], index_col=False)\n",
    "dt44 = pd.read_csv('C:\\\\Users\\\\Felix\\\\Desktop\\\\毕设\\\\数据\\\\20200115_153335-3\\\\clip1.txt',sep=',',header=None,names=names,na_values=['-1'], index_col=False)\n",
    "dt45 = pd.read_csv('C:\\\\Users\\\\Felix\\\\Desktop\\\\毕设\\\\数据\\\\20200115_153335-3\\\\clip2.txt',sep=',',header=None,names=names,na_values=['-1'], index_col=False)\n",
    "dt46 = pd.read_csv('C:\\\\Users\\\\Felix\\\\Desktop\\\\毕设\\\\数据\\\\20200115_153335-3\\\\clip3.txt',sep=',',header=None,names=names,na_values=['-1'], index_col=False)\n",
    "dt47 = pd.read_csv('C:\\\\Users\\\\Felix\\\\Desktop\\\\毕设\\\\数据\\\\20200115_155030-3\\\\clip1.txt',sep=',',header=None,names=names,na_values=['-1'], index_col=False)\n",
    "dt48 = pd.read_csv('C:\\\\Users\\\\Felix\\\\Desktop\\\\毕设\\\\数据\\\\20200115_155030-3\\\\clip2.txt',sep=',',header=None,names=names,na_values=['-1'], index_col=False)\n",
    "dt49 = pd.read_csv('C:\\\\Users\\\\Felix\\\\Desktop\\\\毕设\\\\数据\\\\20200115_155030-3\\\\clip3.txt',sep=',',header=None,names=names,na_values=['-1'], index_col=False)\n",
    "\n",
    "print(\"Starting file:\")\n",
    "print(dt[0:10])\n",
    "\n",
    "print(\"Ending file:\")\n",
    "print(dt[-10:])"
   ]
  },
  {
   "cell_type": "code",
   "execution_count": 3,
   "metadata": {},
   "outputs": [],
   "source": [
    "freq=300#伺服控制频率\n",
    "a11=0.0001777326832096361\n",
    "a12=0.005308842744342313\n",
    "a21=0.00534395497810797\n",
    "a22=-0.00019522174569135787\n",
    "centerX=208\n",
    "centerY=208"
   ]
  },
  {
   "cell_type": "code",
   "execution_count": 4,
   "metadata": {},
   "outputs": [],
   "source": [
    "def to_sequences(seq_size, obs):\n",
    "    x = []\n",
    "    y = []\n",
    "    for i in range(len(obs)-SEQUENCE_SIZE):\n",
    "        #print(i)\n",
    "        window = obs[i:(i+SEQUENCE_SIZE)]\n",
    "        after_window = obs[i+SEQUENCE_SIZE]\n",
    "        window = [x for x in window]\n",
    "        #print(\"{} - {}\".format(window,after_window))\n",
    "        x.append(window)\n",
    "        y.append(after_window)\n",
    "        \n",
    "    return np.array(x),np.array(y)"
   ]
  },
  {
   "cell_type": "code",
   "execution_count": 5,
   "metadata": {},
   "outputs": [],
   "source": [
    "#转浮点\n",
    "def process(a):\n",
    "    a['headX'] = a['headX'].astype(float)\n",
    "    a['stageX'] = a['stageX'].astype(float)\n",
    "    a['stageY'] = a['stageY'].astype(float)\n",
    "    a['headY'] = a['headY'].astype(float)\n",
    "    a['commandX'] = a['commandX'].astype(float)\n",
    "    a['commandY'] = a['commandY'].astype(float)\n",
    "    headX = a['headX']\n",
    "    stageX = a['stageX']\n",
    "    headY = a['headY']\n",
    "    stageY = a['stageY']\n",
    "    commandX = a['commandX']\n",
    "    commandY = a['commandY']\n",
    "    \n",
    "    #算坐标stagetarget和速度headspeed\n",
    "    headErrorX=centerX-headX\n",
    "    headErrorY=centerY-headY\n",
    "    stageErrorX=headErrorX * a11 + a12 * headErrorY\n",
    "    stageErrorY=headErrorX * a21 + a22 * headErrorY\n",
    "    stageTargetX=(stageX+stageErrorX).tolist()\n",
    "    stageTargetY=(stageY+stageErrorY).tolist()\n",
    "    headSpeedX=(np.diff(stageTargetX)*300).tolist()\n",
    "    headSpeedY=(np.diff(stageTargetY)*300).tolist()\n",
    "    \n",
    "    #创建训练和预测数组\n",
    "    x_train,x_pred = to_sequences(SEQUENCE_SIZE,stageTargetX)\n",
    "    y_train,y_pred = to_sequences(SEQUENCE_SIZE,stageTargetY)\n",
    "    xspeed_train,xspeed_pred = to_sequences(SEQUENCE_SIZE,headSpeedX)\n",
    "    yspeed_train,yspeed_pred = to_sequences(SEQUENCE_SIZE,headSpeedY)\n",
    "\n",
    "    #删去位移数组第一行，为了和速度数组同样维度\n",
    "    x_train = np.delete(x_train,0,0)\n",
    "    y_train = np.delete(y_train,0,0)\n",
    "    x_pred = np.delete(x_pred,0,0)\n",
    "    y_pred = np.delete(y_pred,0,0)\n",
    "\n",
    "    #换行列\n",
    "    combine = np.array([x_train,y_train,xspeed_train,yspeed_train])\n",
    "    combine_pred = np.array([y_pred])#仅预测y\n",
    "    combine = combine.swapaxes(0,1)\n",
    "    combine_pred = combine_pred.swapaxes(0,1)\n",
    "    combine = combine.swapaxes(1,2)\n",
    "    \n",
    "    return combine,combine_pred"
   ]
  },
  {
   "cell_type": "code",
   "execution_count": 6,
   "metadata": {},
   "outputs": [],
   "source": [
    "#sequence size\n",
    "SEQUENCE_SIZE = 10"
   ]
  },
  {
   "cell_type": "code",
   "execution_count": 7,
   "metadata": {},
   "outputs": [],
   "source": [
    "#多个训练集赋值到数组\n",
    "train3,pred3 = process(dt)\n",
    "train4,pred4 = process(dt1)\n",
    "train5,pred5 = process(dt2)\n",
    "train6,pred6 = process(dt3)\n",
    "train7,pred7 = process(dt4)\n",
    "train8,pred8 = process(dt5)\n",
    "train9,pred9 = process(dt6)\n",
    "train10,pred10 = process(dt7)\n",
    "train11,pred11 = process(dt8)\n",
    "train12,pred12 = process(dt9)\n",
    "train13,pred13 = process(dt10)\n",
    "train14,pred14 = process(dt11)\n",
    "train15,pred15 = process(dt12)\n",
    "train16,pred16 = process(dt13)\n",
    "train17,pred17 = process(dt14)\n",
    "train18,pred18 = process(dt15)\n",
    "train19,pred19 = process(dt16)\n",
    "train20,pred20 = process(dt17)\n",
    "train21,pred21 = process(dt18)\n",
    "train22,pred22 = process(dt19)\n",
    "train23,pred23 = process(dt20)\n",
    "train24,pred24 = process(dt21)\n",
    "train25,pred25 = process(dt22)\n",
    "train26,pred26 = process(dt23)\n",
    "train27,pred27 = process(dt24)\n",
    "train28,pred28 = process(dt25)\n",
    "train29,pred29 = process(dt26)\n",
    "train30,pred30 = process(dt27)\n",
    "train31,pred31 = process(dt28)\n",
    "train32,pred32 = process(dt29)\n",
    "train33,pred33 = process(dt30)\n",
    "train34,pred34 = process(dt31)\n",
    "#测试集train35,pred35 = process(dt32)\n",
    "train36,pred36 = process(dt33)\n",
    "train37,pred37 = process(dt34)\n",
    "train38,pred38 = process(dt35)\n",
    "train39,pred39 = process(dt36)\n",
    "train40,pred40 = process(dt37)\n",
    "train41,pred41 = process(dt38)\n",
    "train42,pred42 = process(dt39)\n",
    "train43,pred43 = process(dt40)\n",
    "train44,pred44 = process(dt41)\n",
    "train45,pred45 = process(dt42)\n",
    "train46,pred46 = process(dt43)\n",
    "train47,pred47 = process(dt44)\n",
    "train48,pred48 = process(dt45)\n",
    "train49,pred49 = process(dt46)\n",
    "train50,pred50 = process(dt47)\n",
    "train51,pred51 = process(dt48)\n",
    "\n",
    "#合并数组\n",
    "train = np.vstack((train3,train4,train5,train6,train7,train8,train9,train10,train11,train12,train13,train14,train15,train16,train17,train18,train19,train20,train21,train22,train23,train24,train25,train26,train27,train28,train29,train30,train31,train32,train33,train34,train36,train37,train38,train39,train40,train41,train42,train43,train44,train45,train46,train47,train48,train49,train50,train51))\n",
    "pred = np.vstack((pred3,pred4,pred5,pred6,pred7,pred8,pred9,pred10,pred11,pred12,pred13,pred14,pred15,pred16,pred17,pred18,pred19,pred20,pred21,pred22,pred23,pred24,pred25,pred26,pred27,pred28,pred29,pred30,pred31,pred32,pred33,pred34,pred36,pred37,pred38,pred39,pred40,pred41,pred42,pred43,pred44,pred45,pred46,pred47,pred48,pred49,pred50,pred51))"
   ]
  },
  {
   "cell_type": "code",
   "execution_count": 8,
   "metadata": {},
   "outputs": [],
   "source": [
    "#测试集数组赋值\n",
    "train_test,pred_test = process(df_test)"
   ]
  },
  {
   "cell_type": "code",
   "execution_count": 9,
   "metadata": {},
   "outputs": [
    {
     "name": "stdout",
     "output_type": "stream",
     "text": [
      "train: (116659, 10, 4)\n",
      "pred: (116659, 1)\n"
     ]
    }
   ],
   "source": [
    "print('train:',train.shape)\n",
    "print('pred:',pred.shape)"
   ]
  },
  {
   "cell_type": "code",
   "execution_count": null,
   "metadata": {},
   "outputs": [
    {
     "name": "stdout",
     "output_type": "stream",
     "text": [
      "Build model...\n",
      "WARNING:tensorflow:From C:\\Users\\Felix\\Anaconda3\\envs\\keras\\lib\\site-packages\\keras\\backend\\tensorflow_backend.py:74: The name tf.get_default_graph is deprecated. Please use tf.compat.v1.get_default_graph instead.\n",
      "\n",
      "WARNING:tensorflow:From C:\\Users\\Felix\\Anaconda3\\envs\\keras\\lib\\site-packages\\keras\\backend\\tensorflow_backend.py:517: The name tf.placeholder is deprecated. Please use tf.compat.v1.placeholder instead.\n",
      "\n",
      "WARNING:tensorflow:From C:\\Users\\Felix\\Anaconda3\\envs\\keras\\lib\\site-packages\\keras\\backend\\tensorflow_backend.py:4138: The name tf.random_uniform is deprecated. Please use tf.random.uniform instead.\n",
      "\n",
      "WARNING:tensorflow:From C:\\Users\\Felix\\Anaconda3\\envs\\keras\\lib\\site-packages\\keras\\optimizers.py:790: The name tf.train.Optimizer is deprecated. Please use tf.compat.v1.train.Optimizer instead.\n",
      "\n",
      "Train...\n",
      "WARNING:tensorflow:From C:\\Users\\Felix\\Anaconda3\\envs\\keras\\lib\\site-packages\\tensorflow_core\\python\\ops\\math_grad.py:1424: where (from tensorflow.python.ops.array_ops) is deprecated and will be removed in a future version.\n",
      "Instructions for updating:\n",
      "Use tf.where in 2.0, which has the same broadcast rule as np.where\n",
      "WARNING:tensorflow:From C:\\Users\\Felix\\Anaconda3\\envs\\keras\\lib\\site-packages\\keras\\backend\\tensorflow_backend.py:986: The name tf.assign_add is deprecated. Please use tf.compat.v1.assign_add instead.\n",
      "\n",
      "WARNING:tensorflow:From C:\\Users\\Felix\\Anaconda3\\envs\\keras\\lib\\site-packages\\keras\\backend\\tensorflow_backend.py:973: The name tf.assign is deprecated. Please use tf.compat.v1.assign instead.\n",
      "\n",
      "WARNING:tensorflow:From C:\\Users\\Felix\\Anaconda3\\envs\\keras\\lib\\site-packages\\keras\\backend\\tensorflow_backend.py:2741: The name tf.Session is deprecated. Please use tf.compat.v1.Session instead.\n",
      "\n",
      "Train on 116659 samples, validate on 4098 samples\n",
      "Epoch 1/850\n",
      "WARNING:tensorflow:From C:\\Users\\Felix\\Anaconda3\\envs\\keras\\lib\\site-packages\\keras\\backend\\tensorflow_backend.py:174: The name tf.get_default_session is deprecated. Please use tf.compat.v1.get_default_session instead.\n",
      "\n",
      "WARNING:tensorflow:From C:\\Users\\Felix\\Anaconda3\\envs\\keras\\lib\\site-packages\\keras\\backend\\tensorflow_backend.py:181: The name tf.ConfigProto is deprecated. Please use tf.compat.v1.ConfigProto instead.\n",
      "\n",
      "WARNING:tensorflow:From C:\\Users\\Felix\\Anaconda3\\envs\\keras\\lib\\site-packages\\keras\\backend\\tensorflow_backend.py:190: The name tf.global_variables is deprecated. Please use tf.compat.v1.global_variables instead.\n",
      "\n",
      "WARNING:tensorflow:From C:\\Users\\Felix\\Anaconda3\\envs\\keras\\lib\\site-packages\\keras\\backend\\tensorflow_backend.py:199: The name tf.is_variable_initialized is deprecated. Please use tf.compat.v1.is_variable_initialized instead.\n",
      "\n",
      "WARNING:tensorflow:From C:\\Users\\Felix\\Anaconda3\\envs\\keras\\lib\\site-packages\\keras\\backend\\tensorflow_backend.py:206: The name tf.variables_initializer is deprecated. Please use tf.compat.v1.variables_initializer instead.\n",
      "\n"
     ]
    }
   ],
   "source": [
    "from tensorflow.keras.callbacks import EarlyStopping\n",
    "\n",
    "print('Build model...')\n",
    "model = Sequential()\n",
    "model.add(GRU(32, dropout=0.0, input_shape=(None,4), recurrent_dropout=0.0,))\n",
    "model.add(Dense(64))\n",
    "model.add(Dense(1))\n",
    "model.compile(loss='mean_squared_error', optimizer='adam')\n",
    "\n",
    "monitor = EarlyStopping(monitor='val_loss', min_delta=0, patience=100, verbose=1, mode='auto', restore_best_weights=True)\n",
    "print('Train...')\n",
    "\n",
    "model.fit(train,pred,validation_data=(train_test,pred_test),callbacks=[monitor],verbose=2,epochs=850)"
   ]
  },
  {
   "cell_type": "markdown",
   "metadata": {},
   "source": [
    "#载入模型再进行训练\n",
    "from keras.models import load_model\n",
    "\n",
    "model = load_model('C:\\\\Users\\\\Felix\\\\Desktop\\\\毕设\\\\训练模型\\\\model-32-64_1900.h5')\n",
    "model.fit(train,pred,verbose=2,epochs=1000)"
   ]
  },
  {
   "cell_type": "code",
   "execution_count": null,
   "metadata": {},
   "outputs": [],
   "source": [
    "from sklearn import metrics\n",
    "\n",
    "pred_0 = model.predict(train_test)\n",
    "score = np.sqrt(metrics.mean_squared_error(pred_0[:,0],pred_test[:,0]))\n",
    "print(\"y测试集Score (RMSE): {}\".format(score))"
   ]
  },
  {
   "cell_type": "code",
   "execution_count": null,
   "metadata": {},
   "outputs": [],
   "source": [
    "from sklearn import metrics\n",
    "\n",
    "pred_1 = model.predict(train)\n",
    "score = np.sqrt(metrics.mean_squared_error(pred_1[:,0],pred[:,0]))\n",
    "print(\"y训练集Score (RMSE): {}\".format(score))"
   ]
  },
  {
   "cell_type": "code",
   "execution_count": null,
   "metadata": {},
   "outputs": [],
   "source": [
    "#保存训练模型\n",
    "model.save('C:\\\\Users\\\\Felix\\\\Desktop\\\\毕设\\\\训练模型\\\\newmodel-32-64_850-y-v0.06.h5')"
   ]
  },
  {
   "cell_type": "code",
   "execution_count": null,
   "metadata": {},
   "outputs": [],
   "source": []
  }
 ],
 "metadata": {
  "kernelspec": {
   "display_name": "Python 3",
   "language": "python",
   "name": "python3"
  },
  "language_info": {
   "codemirror_mode": {
    "name": "ipython",
    "version": 3
   },
   "file_extension": ".py",
   "mimetype": "text/x-python",
   "name": "python",
   "nbconvert_exporter": "python",
   "pygments_lexer": "ipython3",
   "version": "3.7.6"
  }
 },
 "nbformat": 4,
 "nbformat_minor": 4
}
